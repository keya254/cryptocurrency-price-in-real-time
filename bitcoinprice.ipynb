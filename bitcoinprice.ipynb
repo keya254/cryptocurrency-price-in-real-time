{
  "nbformat": 4,
  "nbformat_minor": 0,
  "metadata": {
    "colab": {
      "name": "bitcoinprice.ipynb",
      "provenance": [],
      "collapsed_sections": [],
      "authorship_tag": "ABX9TyOFnbZ+IdpOa77/S1VLB4/m",
      "include_colab_link": true
    },
    "kernelspec": {
      "display_name": "Python 3",
      "name": "python3"
    },
    "language_info": {
      "name": "python"
    }
  },
  "cells": [
    {
      "cell_type": "markdown",
      "metadata": {
        "id": "view-in-github",
        "colab_type": "text"
      },
      "source": [
        "<a href=\"https://colab.research.google.com/github/keya254/cryptocurrency-price-in-real-time/blob/main/bitcoinprice.ipynb\" target=\"_parent\"><img src=\"https://colab.research.google.com/assets/colab-badge.svg\" alt=\"Open In Colab\"/></a>"
      ]
    },
    {
      "cell_type": "code",
      "metadata": {
        "id": "tf2tYUFy1Ql6"
      },
      "source": [
        "#this program gets the price of bitcoin in real time"
      ],
      "execution_count": null,
      "outputs": []
    },
    {
      "cell_type": "code",
      "metadata": {
        "id": "OqXOE5_F1iPj"
      },
      "source": [
        "#Import the libraries\n",
        "from bs4 import BeautifulSoup\n",
        "import requests\n",
        "import time"
      ],
      "execution_count": 2,
      "outputs": []
    },
    {
      "cell_type": "code",
      "metadata": {
        "id": "I-Jek1iy18Hd"
      },
      "source": [
        "#Get the url\n",
        "#      https://www.google.com/earch?q=litecoin+price\n",
        "url = 'https://www.google.com/search?q=bitcoin+price'\n",
        "\n",
        "#makethe request to the website\n",
        "\n",
        "HTML = requests.get(url)\n",
        "\n",
        "#parse the html\n",
        "soup = BeautifulSoup(HTML.text, 'html.parser')\n",
        "\n",
        "#Print soup to find where the text is that contains the price of the cryptocureency\n",
        "print(soup.prettify())"
      ],
      "execution_count": null,
      "outputs": []
    },
    {
      "cell_type": "code",
      "metadata": {
        "id": "4HA2g0cD9b3F"
      },
      "source": [
        "#<div class=\"BNeawe iBp4i AP7Wnd\">\n",
        "\n",
        "#create a function to get the prices of btc\n",
        "def get_crypto_price(coin):\n",
        "  \n",
        "  #Get the url\n",
        "  #      https://www.google.com/earch?q=litecoin+price\n",
        "  url = 'https://www.google.com/search?q='+coin+'+price'\n",
        "\n",
        "  #makethe request to the website\n",
        "\n",
        "  HTML = requests.get(url)\n",
        "\n",
        "  #parse the html\n",
        "  soup = BeautifulSoup(HTML.text, 'html.parser')\n",
        "\n",
        "  #Find the current price\n",
        "  text = soup.find('div',attrs={'class':'BNeawe iBp4i AP7Wnd'}).find('div',attrs={'class':'BNeawe iBp4i AP7Wnd'}).text\n",
        "\n",
        "  #return text\n",
        "  return text\n"
      ],
      "execution_count": 5,
      "outputs": []
    },
    {
      "cell_type": "code",
      "metadata": {
        "colab": {
          "base_uri": "https://localhost:8080/"
        },
        "id": "wFUfJphR_rij",
        "outputId": "f80f9db7-3dda-4aef-e053-6afe058fb692"
      },
      "source": [
        "#get the price of crypto\n",
        "price = get_crypto_price('etherium')\n",
        "\n",
        "#print the price\n",
        "print(price)"
      ],
      "execution_count": 12,
      "outputs": [
        {
          "output_type": "stream",
          "text": [
            "2,366.63 United States Dollar\n"
          ],
          "name": "stdout"
        }
      ]
    },
    {
      "cell_type": "code",
      "metadata": {
        "id": "s8CnrPM7CQPF"
      },
      "source": [
        "#create a main function to consistently show the price of cryptocurrencies when it changes\n",
        "def main():\n",
        "  last_price = -1\n",
        "  #create a loop to continuosly show\n",
        "  while True:\n",
        "    #choose the price of the cryptocoin\n",
        "    crypto = 'etherium_'\n",
        "    #get the price of the cryptocurrency'\n",
        "    price = get_crypto_price(crypto)\n",
        "    #check if the price changed\n",
        "    if price !=last_price:\n",
        "      print(crypto+ 'price:',price)\n",
        "      last_price =price\n",
        "    time.sleep(3)"
      ],
      "execution_count": 15,
      "outputs": []
    },
    {
      "cell_type": "code",
      "metadata": {
        "colab": {
          "base_uri": "https://localhost:8080/",
          "height": 376
        },
        "id": "1OLsc29mDnmV",
        "outputId": "1354142b-b548-4d0a-94c9-2a3ee25db18c"
      },
      "source": [
        "#run/execute the function\n",
        "main()\n"
      ],
      "execution_count": 16,
      "outputs": [
        {
          "output_type": "stream",
          "text": [
            "etherium_price: 2,366.63 United States Dollar\n",
            "etherium_price: 2,366.05 United States Dollar\n"
          ],
          "name": "stdout"
        },
        {
          "output_type": "error",
          "ename": "AttributeError",
          "evalue": "ignored",
          "traceback": [
            "\u001b[0;31m---------------------------------------------------------------------------\u001b[0m",
            "\u001b[0;31mAttributeError\u001b[0m                            Traceback (most recent call last)",
            "\u001b[0;32m<ipython-input-16-93196ca9e69c>\u001b[0m in \u001b[0;36m<module>\u001b[0;34m()\u001b[0m\n\u001b[1;32m      1\u001b[0m \u001b[0;31m#run/execute the function\u001b[0m\u001b[0;34m\u001b[0m\u001b[0;34m\u001b[0m\u001b[0;34m\u001b[0m\u001b[0m\n\u001b[0;32m----> 2\u001b[0;31m \u001b[0mmain\u001b[0m\u001b[0;34m(\u001b[0m\u001b[0;34m)\u001b[0m\u001b[0;34m\u001b[0m\u001b[0;34m\u001b[0m\u001b[0m\n\u001b[0m",
            "\u001b[0;32m<ipython-input-15-30f5a3a3b101>\u001b[0m in \u001b[0;36mmain\u001b[0;34m()\u001b[0m\n\u001b[1;32m      7\u001b[0m     \u001b[0mcrypto\u001b[0m \u001b[0;34m=\u001b[0m \u001b[0;34m'etherium_'\u001b[0m\u001b[0;34m\u001b[0m\u001b[0;34m\u001b[0m\u001b[0m\n\u001b[1;32m      8\u001b[0m     \u001b[0;31m#get the price of the cryptocurrency'\u001b[0m\u001b[0;34m\u001b[0m\u001b[0;34m\u001b[0m\u001b[0;34m\u001b[0m\u001b[0m\n\u001b[0;32m----> 9\u001b[0;31m     \u001b[0mprice\u001b[0m \u001b[0;34m=\u001b[0m \u001b[0mget_crypto_price\u001b[0m\u001b[0;34m(\u001b[0m\u001b[0mcrypto\u001b[0m\u001b[0;34m)\u001b[0m\u001b[0;34m\u001b[0m\u001b[0;34m\u001b[0m\u001b[0m\n\u001b[0m\u001b[1;32m     10\u001b[0m     \u001b[0;31m#check if the price changed\u001b[0m\u001b[0;34m\u001b[0m\u001b[0;34m\u001b[0m\u001b[0;34m\u001b[0m\u001b[0m\n\u001b[1;32m     11\u001b[0m     \u001b[0;32mif\u001b[0m \u001b[0mprice\u001b[0m \u001b[0;34m!=\u001b[0m\u001b[0mlast_price\u001b[0m\u001b[0;34m:\u001b[0m\u001b[0;34m\u001b[0m\u001b[0;34m\u001b[0m\u001b[0m\n",
            "\u001b[0;32m<ipython-input-5-8e55be723adb>\u001b[0m in \u001b[0;36mget_crypto_price\u001b[0;34m(coin)\u001b[0m\n\u001b[1;32m     16\u001b[0m \u001b[0;34m\u001b[0m\u001b[0m\n\u001b[1;32m     17\u001b[0m   \u001b[0;31m#Find the current price\u001b[0m\u001b[0;34m\u001b[0m\u001b[0;34m\u001b[0m\u001b[0;34m\u001b[0m\u001b[0m\n\u001b[0;32m---> 18\u001b[0;31m   \u001b[0mtext\u001b[0m \u001b[0;34m=\u001b[0m \u001b[0msoup\u001b[0m\u001b[0;34m.\u001b[0m\u001b[0mfind\u001b[0m\u001b[0;34m(\u001b[0m\u001b[0;34m'div'\u001b[0m\u001b[0;34m,\u001b[0m\u001b[0mattrs\u001b[0m\u001b[0;34m=\u001b[0m\u001b[0;34m{\u001b[0m\u001b[0;34m'class'\u001b[0m\u001b[0;34m:\u001b[0m\u001b[0;34m'BNeawe iBp4i AP7Wnd'\u001b[0m\u001b[0;34m}\u001b[0m\u001b[0;34m)\u001b[0m\u001b[0;34m.\u001b[0m\u001b[0mfind\u001b[0m\u001b[0;34m(\u001b[0m\u001b[0;34m'div'\u001b[0m\u001b[0;34m,\u001b[0m\u001b[0mattrs\u001b[0m\u001b[0;34m=\u001b[0m\u001b[0;34m{\u001b[0m\u001b[0;34m'class'\u001b[0m\u001b[0;34m:\u001b[0m\u001b[0;34m'BNeawe iBp4i AP7Wnd'\u001b[0m\u001b[0;34m}\u001b[0m\u001b[0;34m)\u001b[0m\u001b[0;34m.\u001b[0m\u001b[0mtext\u001b[0m\u001b[0;34m\u001b[0m\u001b[0;34m\u001b[0m\u001b[0m\n\u001b[0m\u001b[1;32m     19\u001b[0m \u001b[0;34m\u001b[0m\u001b[0m\n\u001b[1;32m     20\u001b[0m   \u001b[0;31m#return text\u001b[0m\u001b[0;34m\u001b[0m\u001b[0;34m\u001b[0m\u001b[0;34m\u001b[0m\u001b[0m\n",
            "\u001b[0;31mAttributeError\u001b[0m: 'NoneType' object has no attribute 'find'"
          ]
        }
      ]
    }
  ]
}